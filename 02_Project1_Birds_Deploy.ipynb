{
 "cells": [
  {
   "cell_type": "markdown",
   "id": "66591032",
   "metadata": {},
   "source": [
    "## Hwee Ling's first bird classifier "
   ]
  },
  {
   "cell_type": "markdown",
   "id": "b3dbac33",
   "metadata": {},
   "source": [
    "#### Tells you if it is a Hummingbird, Kingfisher or Toucan. Have Fun!"
   ]
  },
  {
   "cell_type": "code",
   "execution_count": 23,
   "id": "adb3d867-f925-4840-893e-b9c2b2d90fa3",
   "metadata": {
    "execution": {
     "iopub.execute_input": "2022-06-09T08:30:00.701723Z",
     "iopub.status.busy": "2022-06-09T08:30:00.701308Z",
     "iopub.status.idle": "2022-06-09T08:30:08.792030Z",
     "shell.execute_reply": "2022-06-09T08:30:08.790932Z",
     "shell.execute_reply.started": "2022-06-09T08:30:00.701682Z"
    }
   },
   "outputs": [],
   "source": [
    "#Install voila Only run once in case voila has not been installed\n",
    "!pip install voila\n",
    "!jupyter serverextension enable --sys-prefix voila "
   ]
  },
  {
   "cell_type": "code",
   "execution_count": 22,
   "id": "69cc9014-b8a4-4d5a-aeb9-3a31e3bb1cc9",
   "metadata": {
    "execution": {
     "iopub.execute_input": "2022-06-09T08:38:54.915928Z",
     "iopub.status.busy": "2022-06-09T08:38:54.915226Z",
     "iopub.status.idle": "2022-06-09T08:38:55.715346Z",
     "shell.execute_reply": "2022-06-09T08:38:55.714179Z",
     "shell.execute_reply.started": "2022-06-09T08:38:54.915899Z"
    }
   },
   "outputs": [],
   "source": [
    "#Only run install once in case it has not been installed\n",
    "!pip install -Uqq fastbook\n",
    "!pip install ipywidgets\n",
    "\n",
    "#setup fastbook\n",
    "import fastbook\n",
    "fastbook.setup_book()\n",
    "\n",
    "#import fastai library\n",
    "from fastbook import *\n",
    "from fastai.vision.all import *\n",
    "from fastai.vision.widgets import *\n",
    "\n",
    "#ipywidgets needed for widgets to work\n",
    "from ipywidgets import *\n",
    "\n",
    "#Set up for Windows Environment - Repace PosixPath by WindowsPath\n",
    "import pathlib\n",
    "temp = pathlib.PosixPath\n",
    "pathlib.PosixPath = pathlib.WindowsPath"
   ]
  },
  {
   "cell_type": "code",
   "execution_count": 18,
   "id": "3fda76e2-531d-4640-ac7b-782082933bad",
   "metadata": {
    "execution": {
     "iopub.execute_input": "2022-06-09T08:32:19.430123Z",
     "iopub.status.busy": "2022-06-09T08:32:19.429697Z",
     "iopub.status.idle": "2022-06-09T08:32:19.530058Z",
     "shell.execute_reply": "2022-06-09T08:32:19.528848Z",
     "shell.execute_reply.started": "2022-06-09T08:32:19.430082Z"
    }
   },
   "outputs": [],
   "source": [
    "# Load the AI model\n",
    "path = Path()\n",
    "learn_birds_inf = load_learner(path/'birds.pkl')"
   ]
  },
  {
   "cell_type": "code",
   "execution_count": 19,
   "id": "cbb29ea2-6782-415a-ba0a-eba7c6c908e1",
   "metadata": {
    "execution": {
     "iopub.execute_input": "2022-06-09T08:44:06.847631Z",
     "iopub.status.busy": "2022-06-09T08:44:06.847191Z",
     "iopub.status.idle": "2022-06-09T08:44:06.876576Z",
     "shell.execute_reply": "2022-06-09T08:44:06.875249Z",
     "shell.execute_reply.started": "2022-06-09T08:44:06.847586Z"
    }
   },
   "outputs": [],
   "source": [
    "# HL: Defin Output & Label widget to display the image that is uploaded\n",
    "out_pl = widgets.Output()\n",
    "out_pl.clear_output()\n",
    "lbl_pred = widgets.Label()"
   ]
  },
  {
   "cell_type": "code",
   "execution_count": 20,
   "id": "ffb90567-def8-43ec-8c81-ca10cc46d61f",
   "metadata": {
    "execution": {
     "iopub.execute_input": "2022-06-09T08:44:10.074279Z",
     "iopub.status.busy": "2022-06-09T08:44:10.073673Z",
     "iopub.status.idle": "2022-06-09T08:44:10.081763Z",
     "shell.execute_reply": "2022-06-09T08:44:10.080082Z",
     "shell.execute_reply.started": "2022-06-09T08:44:10.074258Z"
    }
   },
   "outputs": [],
   "source": [
    "# HL: Click event handler function for the Classify button\n",
    "def on_click_classify(change):\n",
    "    img = PILImage.create(btn_upload.data[-1])\n",
    "    out_pl.clear_output()\n",
    "    with out_pl: display(img.to_thumb(128,128))\n",
    "    pred,pred_idx,probs = learn_birds_inf.predict(img)\n",
    "    lbl_pred.value = f'Prediction: {pred}; Probability: {probs[pred_idx]:.04f}'"
   ]
  },
  {
   "cell_type": "code",
   "execution_count": 24,
   "id": "2d30e257-afaf-4be8-957b-51cc22957edd",
   "metadata": {
    "execution": {
     "iopub.execute_input": "2022-06-09T08:44:13.112563Z",
     "iopub.status.busy": "2022-06-09T08:44:13.112279Z",
     "iopub.status.idle": "2022-06-09T08:44:13.154682Z",
     "shell.execute_reply": "2022-06-09T08:44:13.153469Z",
     "shell.execute_reply.started": "2022-06-09T08:44:13.112538Z"
    }
   },
   "outputs": [
    {
     "data": {
      "application/vnd.jupyter.widget-view+json": {
       "model_id": "0a8fe8550daf45a3a4690df73d5d4248",
       "version_major": 2,
       "version_minor": 0
      },
      "text/plain": [
       "VBox(children=(Label(value='Select your bird!'), FileUpload(value={}, description='Upload'), Button(descriptio…"
      ]
     },
     "metadata": {},
     "output_type": "display_data"
    }
   ],
   "source": [
    "# HL: Create file Upload widget button - upload a image file for the model to predict\n",
    "btn_upload = widgets.FileUpload()\n",
    "\n",
    "# HL: Code to create a classify button\n",
    "btn_run = widgets.Button(description='Classify')\n",
    "btn_run.on_click(on_click_classify)\n",
    "\n",
    "VBox([widgets.Label('Select your bird!'), btn_upload, btn_run, out_pl, lbl_pred])"
   ]
  },
  {
   "cell_type": "code",
   "execution_count": null,
   "id": "f448579b",
   "metadata": {},
   "outputs": [],
   "source": []
  }
 ],
 "metadata": {
  "kernelspec": {
   "display_name": "Python 3 (ipykernel)",
   "language": "python",
   "name": "python3"
  },
  "language_info": {
   "codemirror_mode": {
    "name": "ipython",
    "version": 3
   },
   "file_extension": ".py",
   "mimetype": "text/x-python",
   "name": "python",
   "nbconvert_exporter": "python",
   "pygments_lexer": "ipython3",
   "version": "3.10.0"
  }
 },
 "nbformat": 4,
 "nbformat_minor": 5
}
